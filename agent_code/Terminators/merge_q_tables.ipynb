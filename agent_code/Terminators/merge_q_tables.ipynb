{
 "cells": [
  {
   "cell_type": "code",
   "execution_count": 1,
   "metadata": {},
   "outputs": [],
   "source": [
    "import pickle"
   ]
  },
  {
   "cell_type": "code",
   "execution_count": 2,
   "metadata": {},
   "outputs": [
    {
     "name": "stdout",
     "output_type": "stream",
     "text": [
      "1. table has 24746 states\n",
      "2. table has 8799 states\n",
      "3. table has 48480 states\n",
      "Final table has 55253 states\n"
     ]
    },
    {
     "ename": "FileNotFoundError",
     "evalue": "[Errno 2] No such file or directory: 'data/q_table-final.csv'",
     "output_type": "error",
     "traceback": [
      "\u001b[1;31m---------------------------------------------------------------------------\u001b[0m",
      "\u001b[1;31mFileNotFoundError\u001b[0m                         Traceback (most recent call last)",
      "\u001b[1;32m<ipython-input-2-bd234b5c101b>\u001b[0m in \u001b[0;36m<module>\u001b[1;34m\u001b[0m\n\u001b[0;32m     24\u001b[0m \u001b[0mprint\u001b[0m\u001b[1;33m(\u001b[0m\u001b[1;34mf\"Final table has {len(q_table1)} states\"\u001b[0m\u001b[1;33m)\u001b[0m\u001b[1;33m\u001b[0m\u001b[1;33m\u001b[0m\u001b[0m\n\u001b[0;32m     25\u001b[0m \u001b[1;33m\u001b[0m\u001b[0m\n\u001b[1;32m---> 26\u001b[1;33m \u001b[1;32mwith\u001b[0m \u001b[0mopen\u001b[0m\u001b[1;33m(\u001b[0m\u001b[1;34m\"data/q_table-final.csv\"\u001b[0m\u001b[1;33m,\u001b[0m \u001b[1;34m\"wb\"\u001b[0m\u001b[1;33m)\u001b[0m \u001b[1;32mas\u001b[0m \u001b[0mfile\u001b[0m\u001b[1;33m:\u001b[0m\u001b[1;33m\u001b[0m\u001b[1;33m\u001b[0m\u001b[0m\n\u001b[0m\u001b[0;32m     27\u001b[0m     \u001b[0mpickle\u001b[0m\u001b[1;33m.\u001b[0m\u001b[0mdump\u001b[0m\u001b[1;33m(\u001b[0m\u001b[0mq_table1\u001b[0m\u001b[1;33m,\u001b[0m \u001b[0mfile\u001b[0m\u001b[1;33m)\u001b[0m\u001b[1;33m\u001b[0m\u001b[1;33m\u001b[0m\u001b[0m\n\u001b[0;32m     28\u001b[0m \u001b[1;33m\u001b[0m\u001b[0m\n",
      "\u001b[1;31mFileNotFoundError\u001b[0m: [Errno 2] No such file or directory: 'data/q_table-final.csv'"
     ]
    }
   ],
   "source": [
    "#HERE SET THE PATHS TO THE THREE Q_TABLES\n",
    "q_path_ANGELINA = \"q_table-Angelina.csv\"\n",
    "q_path_SVEN = \"q_table-Sven.csv\"\n",
    "q_path_TOBIAS = \"q_table-Tobias.csv\"\n",
    "\n",
    "with open(q_path_ANGELINA, \"rb\") as file:\n",
    "    q_table1 = pickle.load(file)\n",
    "\n",
    "with open(q_path_SVEN, \"rb\") as file:\n",
    "    q_table2 = pickle.load(file)\n",
    "\n",
    "with open(q_path_TOBIAS, \"rb\") as file:\n",
    "    q_table3 = pickle.load(file)\n",
    "\n",
    "print(f\"1. table has {len(q_table1)} states\")\n",
    "print(f\"2. table has {len(q_table2)} states\")\n",
    "print(f\"3. table has {len(q_table3)} states\")\n",
    "\n",
    "#merge the three q_tables. Duplicate states are possibly overwritten by the values of one of the q_tables.\n",
    "q_table1.update(q_table2)\n",
    "q_table1.update(q_table3)\n",
    "\n",
    "type(q_table1)\n",
    "print(f\"Final table has {len(q_table1)} states\")\n",
    "\n",
    "with open(\"q_table-final.csv\", \"wb\") as file:\n",
    "    pickle.dump(q_table1, file)\n",
    "\n",
    "\n",
    "print()\n",
    "print(\"!!!!!!IMPORTANT: DON'T FORGET TO UPDATE THE Q_TABLE_PATH IN CALLBACKS.PY!!!!!!!!\")\n"
   ]
  },
  {
   "cell_type": "code",
   "execution_count": null,
   "metadata": {},
   "outputs": [],
   "source": []
  }
 ],
 "metadata": {
  "interpreter": {
   "hash": "949777d72b0d2535278d3dc13498b2535136f6dfe0678499012e853ee9abcab1"
  },
  "kernelspec": {
   "display_name": "Python 3",
   "language": "python",
   "name": "python3"
  },
  "language_info": {
   "codemirror_mode": {
    "name": "ipython",
    "version": 3
   },
   "file_extension": ".py",
   "mimetype": "text/x-python",
   "name": "python",
   "nbconvert_exporter": "python",
   "pygments_lexer": "ipython3",
   "version": "3.8.3"
  }
 },
 "nbformat": 4,
 "nbformat_minor": 2
}
