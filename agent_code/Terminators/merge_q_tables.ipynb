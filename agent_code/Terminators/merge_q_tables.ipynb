{
 "cells": [
  {
   "cell_type": "code",
   "execution_count": 7,
   "metadata": {},
   "outputs": [],
   "source": [
    "import pickle"
   ]
  },
  {
   "cell_type": "code",
   "execution_count": 8,
   "metadata": {},
   "outputs": [
    {
     "name": "stdout",
     "output_type": "stream",
     "text": [
      "1. table has 24746 states\n",
      "3. table has 48480 states\n",
      "Final table has 48842 states\n",
      "\n",
      "!!!!!!IMPORTANT: DON'T FORGET TO UPDATE THE Q_TABLE_PATH IN CALLBACKS.PY!!!!!!!!\n"
     ]
    }
   ],
   "source": [
    "#HERE SET THE PATHS TO THE THREE Q_TABLES\n",
    "q_path_ANGELINA = \"q_table-Angelina.csv\"\n",
    "q_path_TOBIAS = \"q_table-Tobias.csv\"\n",
    "\n",
    "with open(q_path_ANGELINA, \"rb\") as file:\n",
    "    q_table1 = pickle.load(file)\n",
    "\n",
    "\n",
    "with open(q_path_TOBIAS, \"rb\") as file:\n",
    "    q_table3 = pickle.load(file)\n",
    "\n",
    "print(f\"1. table has {len(q_table1)} states\")\n",
    "print(f\"3. table has {len(q_table3)} states\")\n",
    "\n",
    "#merge the three q_tables. Duplicate states are possibly overwritten by the values of one of the q_tables.\n",
    "\n",
    "q_table1.update(q_table3)\n",
    "\n",
    "type(q_table1)\n",
    "print(f\"Final table has {len(q_table1)} states\")\n",
    "\n",
    "with open(\"q_table-final.csv\", \"wb\") as file:\n",
    "    pickle.dump(q_table1, file)\n",
    "\n",
    "\n",
    "print()\n",
    "print(\"!!!!!!IMPORTANT: DON'T FORGET TO UPDATE THE Q_TABLE_PATH IN CALLBACKS.PY!!!!!!!!\")\n"
   ]
  },
  {
   "cell_type": "code",
   "execution_count": null,
   "metadata": {},
   "outputs": [],
   "source": []
  }
 ],
 "metadata": {
  "interpreter": {
   "hash": "949777d72b0d2535278d3dc13498b2535136f6dfe0678499012e853ee9abcab1"
  },
  "kernelspec": {
   "display_name": "Python 3",
   "language": "python",
   "name": "python3"
  },
  "language_info": {
   "codemirror_mode": {
    "name": "ipython",
    "version": 3
   },
   "file_extension": ".py",
   "mimetype": "text/x-python",
   "name": "python",
   "nbconvert_exporter": "python",
   "pygments_lexer": "ipython3",
   "version": "3.8.3"
  }
 },
 "nbformat": 4,
 "nbformat_minor": 2
}
