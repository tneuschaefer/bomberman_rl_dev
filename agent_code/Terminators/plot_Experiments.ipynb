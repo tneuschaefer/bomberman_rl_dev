{
 "cells": [
  {
   "cell_type": "code",
   "execution_count": null,
   "metadata": {},
   "outputs": [],
   "source": [
    "import matplotlib.pyplot as plt\n",
    "from os import listdir\n",
    "import json\n",
    "import numpy as np"
   ]
  },
  {
   "cell_type": "code",
   "execution_count": null,
   "metadata": {},
   "outputs": [],
   "source": [
    "def plot(labels_game, game_data_1, game_data_2):\n",
    "    x = np.arange(len(labels_game))\n",
    "    width = 0.35\n",
    "\n",
    "    fig, ax = plt.subplots()\n",
    "    rects1 = ax.bar(x - width/2, game_data_1, width, label='Classic scenario')\n",
    "    rects2 = ax.bar(x + width/2, game_data_2, width,\n",
    "                    label='Coin-heaven scenario')\n",
    "\n",
    "    ax.set_ylabel(\"Average per 100 rounds\")\n",
    "    ax.set_title(\"Performance comparison per scenario\")\n",
    "    ax.set_xticks(x, labels_game)\n",
    "    ax.legend()\n",
    "\n",
    "    ax.bar_label(rects1, padding=1.5)\n",
    "    ax.bar_label(rects2, padding=1.5)\n",
    "\n",
    "    fig.tight_layout()\n",
    "    plt.savefig(\"img/metrics.png\", dpi=500)\n",
    "    plt.show()\n"
   ]
  },
  {
   "cell_type": "code",
   "execution_count": null,
   "metadata": {},
   "outputs": [],
   "source": [
    "path = '/Users/angelinabasova/OneDrive - bwedu/bomberman_rl_dev/results/'\n",
    "n_rounds = 100\n",
    "\n",
    "ls = listdir(path)\n",
    "relevant_results = [file for file in ls if '2022-03-31' in file]\n",
    "#2022-03-31 22-59-24 coinheaven with rule based\n",
    "#first nach 23.06 classic\n",
    "print(path + relevant_results[1])\n",
    "\n",
    "with open(path + relevant_results[1]) as file:\n",
    "    data = json.load(file)\n",
    "\n",
    "OWN = data[\"by_agent\"]['Terminators']\n",
    "\n",
    "#data for diagram\n",
    "coins = OWN[\"coins\"]/n_rounds\n",
    "bombs = OWN['bombs']/n_rounds\n",
    "invalid = OWN['invalid']/n_rounds\n",
    "moves = OWN['moves'] / n_rounds\n",
    "rounds = OWN[\"rounds\"]/n_rounds\n",
    "steps = OWN['steps']/n_rounds\n",
    "score = OWN['score']/n_rounds\n",
    "suicides = OWN['suicides']/n_rounds\n",
    "time = OWN['time']/n_rounds/steps\n",
    "time = round(time, 3)\n"
   ]
  },
  {
   "cell_type": "code",
   "execution_count": null,
   "metadata": {},
   "outputs": [],
   "source": [
    "print(path + relevant_results[0])\n",
    "with open(path + relevant_results[0]) as file:\n",
    "    data2 = json.load(file)\n",
    "#at 23.10 coin-heaven\n",
    "OWN2 = data2[\"by_agent\"]['Terminators']\n",
    "\n",
    "#data for diagram\n",
    "coins2 = OWN2[\"coins\"]/n_rounds\n",
    "bombs2 = OWN2['bombs']/n_rounds\n",
    "invalid2 = OWN2['invalid']/n_rounds\n",
    "moves2 = OWN2['moves']/n_rounds\n",
    "rounds2 = OWN2[\"rounds\"]/n_rounds\n",
    "steps2 = OWN2['steps']/n_rounds\n",
    "score2 = OWN2['score']/n_rounds\n",
    "suicides2 = OWN2['suicides']/n_rounds\n",
    "time2 = OWN2['time']/n_rounds/steps2\n",
    "time2 = round(time2, 3)\n",
    "\n",
    "print(f\"1. Round {rounds}, 2. round: {rounds2}\")\n",
    "print(time)\n"
   ]
  },
  {
   "cell_type": "code",
   "execution_count": null,
   "metadata": {},
   "outputs": [],
   "source": [
    "labels = ['moves', 'invalid', 'bombs', 'suicides']\n",
    "labels_game = ['steps', 'score', 'time']\n",
    "\n",
    "group1 = [moves, invalid, bombs, suicides]\n",
    "game_data_1 = [steps, score, time]\n",
    "group2 = [moves2, invalid2, bombs2, suicides2]\n",
    "game_data_2 = [steps2, score2, time2]"
   ]
  },
  {
   "cell_type": "code",
   "execution_count": null,
   "metadata": {},
   "outputs": [],
   "source": [
    "plot(labels, group1, group2)\n",
    "plot(labels_game, game_data_1, game_data_2)"
   ]
  }
 ],
 "metadata": {
  "language_info": {
   "name": "python"
  },
  "orig_nbformat": 4
 },
 "nbformat": 4,
 "nbformat_minor": 2
}
